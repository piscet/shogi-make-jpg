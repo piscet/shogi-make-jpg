{
 "cells": [
  {
   "cell_type": "markdown",
   "metadata": {},
   "source": [
    "## 画像に文字を入力したい"
   ]
  },
  {
   "cell_type": "markdown",
   "metadata": {},
   "source": [
    "### import lib"
   ]
  },
  {
   "cell_type": "code",
   "execution_count": 1,
   "metadata": {},
   "outputs": [],
   "source": [
    "from PIL import Image, ImageDraw, ImageFont, ImageOps\n",
    "import matplotlib.pyplot as plt"
   ]
  },
  {
   "cell_type": "code",
   "execution_count": 2,
   "metadata": {},
   "outputs": [],
   "source": [
    "font_name = 'Arial\\\\BIZ-UDGothicR.ttc'\n",
    "font_pth = 'C:\\\\Windows\\\\Fonts\\\\' + font_name\n",
    "txt = \"銀\"\n",
    "size = H, W = 300, 300"
   ]
  },
  {
   "cell_type": "markdown",
   "metadata": {},
   "source": [
    "### 画像の生成"
   ]
  },
  {
   "cell_type": "code",
   "execution_count": 3,
   "metadata": {},
   "outputs": [
    {
     "data": {
      "image/png": "[encoded data removed]",
      "text/plain": [
       "<Figure size 432x288 with 1 Axes>"
      ]
     },
     "metadata": {
      "needs_background": "light"
     },
     "output_type": "display_data"
    }
   ],
   "source": [
    "image = Image.new(\"RGB\", size, \"white\")\n",
    "plt.imshow(image)"
   ]
  },
  {
   "cell_type": "code",
   "execution_count": 4,
   "metadata": {},
   "outputs": [],
   "source": [
    "# 別ウィンドウで開く？\n",
    "# image.show()"
   ]
  },
  {
   "cell_type": "markdown",
   "metadata": {},
   "source": [
    "### 文字を挿入"
   ]
  },
  {
   "cell_type": "code",
   "execution_count": 5,
   "metadata": {},
   "outputs": [],
   "source": [
    "draw = ImageDraw.Draw(image)\n",
    "fnt = ImageFont.truetype(font_pth, 30)\n",
    "w, h = draw.textsize(txt, font=fnt)\n",
    "draw.text(((W-w)/2, (H-h)/2), txt, font = fnt, fill=(0, 0, 0, 0))"
   ]
  },
  {
   "cell_type": "code",
   "execution_count": 6,
   "metadata": {},
   "outputs": [],
   "source": [
    "image.save(\"./white_1.jpg\")"
   ]
  },
  {
   "cell_type": "markdown",
   "metadata": {},
   "source": [
    "### 文字を回転させる\n",
    "普通にはできないっぽいので別の画像を用意してそこに印字～画像の合成でやるみたい。"
   ]
  },
  {
   "cell_type": "code",
   "execution_count": 7,
   "metadata": {},
   "outputs": [],
   "source": [
    "image = Image.new(\"RGB\", size, \"white\")\n",
    "fnt = ImageFont.truetype(font_pth, 100)\n",
    "w, h = draw.textsize(txt, font=fnt)\n",
    "txt_image = Image.new(\"L\", (w, h), (255))\n",
    "draw = ImageDraw.Draw(txt_image)\n",
    "draw.text((0, 0), txt, font = fnt, fill=(0))\n",
    "w = txt_image.rotate(180, expand=1)\n",
    "image.paste(w, (0, 0), ImageOps.invert(w))\n",
    "image.save(\"./white_2.jpg\")"
   ]
  },
  {
   "cell_type": "code",
   "execution_count": null,
   "metadata": {},
   "outputs": [],
   "source": []
  }
 ],
 "metadata": {
  "kernelspec": {
   "display_name": "shogi-jpg",
   "language": "python",
   "name": "shogi-jpg"
  },
  "language_info": {
   "codemirror_mode": {
    "name": "ipython",
    "version": 3
   },
   "file_extension": ".py",
   "mimetype": "text/x-python",
   "name": "python",
   "nbconvert_exporter": "python",
   "pygments_lexer": "ipython3",
   "version": "3.8.4"
  }
 },
 "nbformat": 4,
 "nbformat_minor": 4
}
